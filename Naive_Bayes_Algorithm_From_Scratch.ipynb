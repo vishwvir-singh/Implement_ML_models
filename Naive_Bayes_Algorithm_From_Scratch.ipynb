{
  "nbformat": 4,
  "nbformat_minor": 0,
  "metadata": {
    "colab": {
      "name": "Naive_Bayes_Algorithm_From_Scratch.ipynb",
      "provenance": [],
      "collapsed_sections": [],
      "authorship_tag": "ABX9TyNoqgHPbdV3pxARbxbGcjV7",
      "include_colab_link": true
    },
    "kernelspec": {
      "name": "python3",
      "display_name": "Python 3"
    }
  },
  "cells": [
    {
      "cell_type": "markdown",
      "metadata": {
        "id": "view-in-github",
        "colab_type": "text"
      },
      "source": [
        "<a href=\"https://colab.research.google.com/github/vishwvir-singh/Implement_ML_models/blob/main/Naive_Bayes_Algorithm_From_Scratch.ipynb\" target=\"_parent\"><img src=\"https://colab.research.google.com/assets/colab-badge.svg\" alt=\"Open In Colab\"/></a>"
      ]
    },
    {
      "cell_type": "code",
      "metadata": {
        "id": "myWn1ioX8ClO"
      },
      "source": [
        "from sklearn.datasets import load_iris\n",
        "import pandas as pd\n",
        "import numpy as np\n",
        "import math"
      ],
      "execution_count": 1,
      "outputs": []
    },
    {
      "cell_type": "code",
      "metadata": {
        "id": "ckNNNRw7JwCs"
      },
      "source": [
        "def get_train_test_data():\n",
        "    # iris_data = load_iris()\n",
        "    # data = iris_data[\"data\"]\n",
        "    # targets = iris_data['target']\n",
        "    # test_data = data[80:110]\n",
        "    # test_targets = targets[80:110]\n",
        "    data = [\n",
        "            [1, 1, 1 , 0],\n",
        "            [1, 1, 1 , 1],\n",
        "            [2, 1, 2 , 0],\n",
        "            [3, 2, 1 , 0],\n",
        "            [3, 3, 2 , 0],\n",
        "            [3, 3, 3 , 1],\n",
        "            [2, 3, 3 , 1],\n",
        "            [1, 2, 1 , 0],\n",
        "            [1, 3, 3 , 0],\n",
        "            [3, 2, 2 , 0]\n",
        "    ]\n",
        "    targets = [\n",
        "               1,\n",
        "               1,\n",
        "               0,\n",
        "               0,\n",
        "               0,\n",
        "               1,\n",
        "               0,\n",
        "               1,\n",
        "               0,\n",
        "               0\n",
        "    ]\n",
        "    # test_data = data[:]\n",
        "    # test_targets = targets[:]\n",
        "    test_data = [[3,1,3, 1]]\n",
        "    test_targets = [1]\n",
        "    return data, targets, test_data, test_targets"
      ],
      "execution_count": 2,
      "outputs": []
    },
    {
      "cell_type": "code",
      "metadata": {
        "id": "lQKefSSg82lZ"
      },
      "source": [
        "def pre_processing(data, target):\n",
        "    g_data = {}\n",
        "    processed_data = {}\n",
        "    class_wise_rows = {}\n",
        "    total_rows = len(target)\n",
        "    for each in zip(data, target):\n",
        "        g_data.setdefault(each[1],[]).append(each[0])\n",
        "    for class_name, rows in g_data.items():\n",
        "        class_wise_rows[class_name] = len(rows)\n",
        "        processed_data[class_name] = [(np.mean(column), np.std(column)) for column in zip(*rows)]\n",
        "    return processed_data, class_wise_rows, total_rows\n"
      ],
      "execution_count": 3,
      "outputs": []
    },
    {
      "cell_type": "code",
      "metadata": {
        "id": "Bg9WFUW8zdzI"
      },
      "source": [
        "def calculate_probability(x, mean, stdev):\n",
        "\texponent = math.exp(-((x-mean)**2 / (2 * stdev**2 )))\n",
        "\treturn (1 / (math.sqrt(2 * math.pi) * stdev)) * exponent"
      ],
      "execution_count": 4,
      "outputs": []
    },
    {
      "cell_type": "code",
      "metadata": {
        "id": "orhZXHxm82oP"
      },
      "source": [
        "def predict(p_data, cw_count, total_count, test_data, test_target):\n",
        "    prob = {}\n",
        "    for class_name, columns_stats in p_data.items():\n",
        "        # print(class_name)\n",
        "        prob[class_name] = cw_count[class_name]/float(total_count)\n",
        "        for index, (mean, stdev) in enumerate(columns_stats):\n",
        "            # print(mean, stdev)\n",
        "            prob[class_name] *= calculate_probability(test_data[index], mean, stdev)\n",
        "    predicted_class = sorted(prob.items(), key = lambda x: x[-1], reverse = True)[0][0]\n",
        "    return predicted_class\n"
      ],
      "execution_count": 5,
      "outputs": []
    },
    {
      "cell_type": "code",
      "metadata": {
        "id": "HdCZzPPNnTU0"
      },
      "source": [
        "def calculate_accuracy(predict_values, actual_values):\n",
        "    count = 0\n",
        "    for p_v, a_v in zip(predict_values, actual_values):\n",
        "        if p_v == a_v:\n",
        "            count += 1\n",
        "        # else:\n",
        "        #     print(p_v, a_v)\n",
        "    # print('True count : {} and Total Test count : {}'.format(count, len(actual_values)))\n",
        "    return count * 100 /float(len(predict_values))"
      ],
      "execution_count": 6,
      "outputs": []
    },
    {
      "cell_type": "code",
      "metadata": {
        "id": "rC_gvOsg82rD"
      },
      "source": [
        "def main():\n",
        "    train_data, train_targets, test_data, test_targets = get_train_test_data()\n",
        "    p_data, cw_count, total_count = pre_processing(train_data, train_targets)\n",
        "    predicted_values = []\n",
        "    for t_data, t_target in zip(test_data, test_targets):\n",
        "        predicted_values.append(predict(p_data, cw_count, total_count, t_data, t_target))\n",
        "    df = pd.DataFrame.from_dict({\n",
        "        \"target_values\" : test_targets,\n",
        "        \"predicted_values\" : predicted_values\n",
        "    })\n",
        "    # accuracy = calculate_accuracy(predicted_values, test_targets)\n",
        "    print(\"Results : {}\".format(df))\n",
        "    # print(\"Accuracy : {}\".format(accuracy))\n"
      ],
      "execution_count": 7,
      "outputs": []
    },
    {
      "cell_type": "code",
      "metadata": {
        "id": "9k0wxos-Ccma",
        "colab": {
          "base_uri": "https://localhost:8080/"
        },
        "outputId": "3c63cd57-3426-4cbe-9a04-37d5fd4fa39c"
      },
      "source": [
        "#Execute Script\n",
        "main()"
      ],
      "execution_count": 8,
      "outputs": [
        {
          "output_type": "stream",
          "text": [
            "Results :    target_values  predicted_values\n",
            "0              1                 1\n"
          ],
          "name": "stdout"
        }
      ]
    },
    {
      "cell_type": "code",
      "metadata": {
        "id": "QVgJbOfECcpC"
      },
      "source": [
        ""
      ],
      "execution_count": 8,
      "outputs": []
    },
    {
      "cell_type": "code",
      "metadata": {
        "id": "EYuLVOJcCcsB"
      },
      "source": [
        ""
      ],
      "execution_count": 8,
      "outputs": []
    },
    {
      "cell_type": "code",
      "metadata": {
        "id": "o-jmq-u9Ccu8"
      },
      "source": [
        ""
      ],
      "execution_count": 8,
      "outputs": []
    },
    {
      "cell_type": "code",
      "metadata": {
        "id": "8dduDymYCcx8"
      },
      "source": [
        ""
      ],
      "execution_count": 8,
      "outputs": []
    }
  ]
}